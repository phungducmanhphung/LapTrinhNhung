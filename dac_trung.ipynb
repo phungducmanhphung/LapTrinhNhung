{
 "cells": [
  {
   "cell_type": "code",
   "execution_count": 1,
   "metadata": {},
   "outputs": [],
   "source": [
    "import os\n",
    "import pandas as pd\n",
    "import numpy as np\n",
    "import matplotlib.pyplot as plt\n",
    "import common"
   ]
  },
  {
   "cell_type": "code",
   "execution_count": 2,
   "metadata": {},
   "outputs": [],
   "source": [
    "X, Y = common.DocDuLieu()\n",
    "X = common.ChuyenDoiTatCaDuLieuTuHangSangCot_AllFile(X)\n",
    "X_dac_trung = []"
   ]
  },
  {
   "cell_type": "code",
   "execution_count": 3,
   "metadata": {},
   "outputs": [
    {
     "name": "stdout",
     "output_type": "stream",
     "text": [
      "Tổng số mẫu:  175\n",
      "Số mẫu ngưng thở:  75\n",
      "Số mẫu thở bình thường:  100\n",
      "Kích thước của một mẫu dữ liệu:  (6, 200)\n"
     ]
    }
   ],
   "source": [
    "# hiển thị thông tin dữ liệu\n",
    "print(\"Tổng số mẫu: \", len(Y))\n",
    "print(\"Số mẫu ngưng thở: \", list(Y).count(1))\n",
    "print(\"Số mẫu thở bình thường: \", list(Y).count(0))\n",
    "print(\"Kích thước của một mẫu dữ liệu: \", X[0].shape)\n"
   ]
  },
  {
   "cell_type": "code",
   "execution_count": 10,
   "metadata": {},
   "outputs": [
    {
     "name": "stdout",
     "output_type": "stream",
     "text": [
      "(175, 6, 5)\n"
     ]
    }
   ],
   "source": [
    "# tinh dac trung cua tat cua du lieu\n",
    "X_dac_trung = []\n",
    "for sample_file in X:\n",
    "    cac_dac_trung = []\n",
    "    # tinh dac trung cac cot cua mot mau du lieu\n",
    "    for col in sample_file:\n",
    "        dac_trung = np.array([min(col), max(col), np.mean(col), np.std(col), common.TinhTanSoXuatHienCaoNhatTrongMang(col)])\n",
    "        cac_dac_trung.append(dac_trung)\n",
    "    X_dac_trung.append(np.array(cac_dac_trung))\n",
    "\n",
    "X_dac_trung = np.array(X_dac_trung)\n",
    "\n",
    "print(X_dac_trung.shape)"
   ]
  },
  {
   "cell_type": "code",
   "execution_count": 50,
   "metadata": {},
   "outputs": [],
   "source": [
    "# save file dac trung\n",
    "column_names = [\"STT\", \"min_AccelX\", \"max_AccelX\", \"mean_AccelX\", \"std_AccelX\", \"frequency_AccelX\", \n",
    "             \"min_AccelY\", \"max_AccelY\", \"mean_AccelY\", \"std_AccelY\", \"frequency_AccelY\",\n",
    "             \"min_AccelZ\", \"max_AccelZ\", \"mean_AccelZ\", \"std_AccelZ\", \"frequency_AccelZ\",\n",
    "             \"min_GyroX\", \"max_GyroX\", \"mean_GyroX\", \"std_GyroX\", \"frequency_GyroX\",\n",
    "             \"min_GyroY\", \"max_GyroY\", \"mean_GyroY\", \"std_GyroY\", \"frequency_GyroY\",\n",
    "             \"min_GyroZ\", \"max_GyroZ\", \"mean_GyroZ\", \"std_GyroZ\", \"frequency_GyroZ\",\n",
    "             ]\n",
    "\n",
    "data_AN = {}\n",
    "data_NM = {}\n",
    "\n",
    "stt_AN = 0\n",
    "stt_NM = 0\n",
    "\n",
    "# settup doi tuong data\n",
    "for i in range(len(column_names)):\n",
    "        label = column_names[i]\n",
    "        data_AN[label] = []\n",
    "        data_NM[label] = []\n",
    "\n",
    "# them du lieu vao mang data AN nay NM tuong ung\n",
    "for i in range(len(X_dac_trung)):\n",
    "    arr2 = X_dac_trung[i]\n",
    "    row = []\n",
    "    for j in range(len(arr2)):\n",
    "        arr1 = arr2[j]\n",
    "        for k in range(len(arr1)):\n",
    "            row.append(arr1[k])\n",
    "\n",
    "    if Y[i] == 1:\n",
    "        # AN\n",
    "        data_AN[\"STT\"].append(stt_AN)\n",
    "        stt_AN += 1\n",
    "        for j in range(len(row)):\n",
    "            key = column_names[j+1]\n",
    "            data_AN[key].append(row[j])\n",
    "\n",
    "    elif Y[i] == 0:\n",
    "        # NM\n",
    "        data_NM[\"STT\"].append(stt_NM)\n",
    "        stt_NM += 1\n",
    "        for j in range(len(row)):\n",
    "            key = column_names[j+1]\n",
    "            data_NM[key].append(row[j])\n",
    "\n",
    "dfNM = pd.DataFrame(data_NM)\n",
    "dfNM.to_csv(\"data/dac_trung_2/\" + \"NM.csv\", index=False)\n",
    "\n",
    "dfAN = pd.DataFrame(data_AN)\n",
    "dfAN.to_csv(\"data/dac_trung_2/\" + \"AN.csv\", index=False)\n",
    "\n",
    "    "
   ]
  }
 ],
 "metadata": {
  "kernelspec": {
   "display_name": "Python 3",
   "language": "python",
   "name": "python3"
  },
  "language_info": {
   "codemirror_mode": {
    "name": "ipython",
    "version": 3
   },
   "file_extension": ".py",
   "mimetype": "text/x-python",
   "name": "python",
   "nbconvert_exporter": "python",
   "pygments_lexer": "ipython3",
   "version": "3.11.8"
  }
 },
 "nbformat": 4,
 "nbformat_minor": 2
}
