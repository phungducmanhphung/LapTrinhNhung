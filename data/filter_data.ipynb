{
 "cells": [
  {
   "cell_type": "code",
   "execution_count": 3,
   "metadata": {},
   "outputs": [],
   "source": [
    "import matplotlib.pyplot as plt\n",
    "import numpy as np\n",
    "from numpy.fft import fft, ifft\n",
    "import pandas as pd"
   ]
  },
  {
   "cell_type": "code",
   "execution_count": 4,
   "metadata": {},
   "outputs": [],
   "source": [
    "def plot_file(c,t,id,fig_num,suptitle):\n",
    "    df = pd.read_csv(f'output2/{t}_{id}.csv')\n",
    "    Y = fft(df[c])\n",
    "    N = len(df[c])\n",
    "    n = np.arange(N)\n",
    "    fs = 1.0/40\n",
    "    # print(n)\n",
    "    freq = np.fft.fftfreq(N, fs)\n",
    " \n",
    "    # # print(freq)\n",
    "    # plt.figure(fig_num,figsize = (16, 8))\n",
    "    # plt.suptitle(f'{suptitle}')\n",
    "    \n",
    "    # plt.subplot(221)\n",
    "    # plt.title(f'Original data of {c}')\n",
    "    # plt.plot( n,df[c], 'b')\n",
    "    # plt.xlabel('Times')\n",
    "    # plt.ylabel('Amplitude ')\n",
    "    # plt.xlim(0, 200)\n",
    "\n",
    "    # plt.subplot(222)\n",
    "    # plt.plot(1/N*2*np.abs(Y))\n",
    "    # plt.title(\"Original data\")\n",
    "    # plt.xlabel('Freq (Hz)')\n",
    "    # plt.ylabel('FFT Amplitude |X(freq)|')\n",
    "    # plt.xlim(0, 10)\n",
    "\n",
    "    # print(freq)\n",
    "    # Xác định chỉ mục của tần số 0.13 và 0.7\n",
    "    index_0_13 = np.where(freq >= 0)[0][0]\n",
    "    index_07 = np.where(freq >= 1)[0][0]\n",
    "    # print(index_0_13)\n",
    "    # print(index_07)\n",
    "    fourier_filtered = Y.copy()\n",
    "    fourier_filtered[:index_0_13] = 0\n",
    "    fourier_filtered[index_07:] = 0\n",
    "    # print(fourier_filtered)\n",
    "\n",
    "    data_filtered = ifft(fourier_filtered)\n",
    "    # data_filtered.to_csv(f'output2_filtered/{t}_filtered_{id}.csv')\n",
    "# Lọc Fourier\n",
    "\n",
    "    # plt.subplot(223)\n",
    "    # plt.plot( n, data_filtered.real, 'b')\n",
    "    # plt.title(f'After filter of {c}')\n",
    "    # plt.xlabel('Times')\n",
    "    # plt.ylabel(' Amplitude ')\n",
    "    # plt.xlim(0, 200)\n",
    "\n",
    "\n",
    "    # plt.subplot(224)\n",
    "    # plt.plot(1/N*2*np.abs(fourier_filtered))\n",
    "    # plt.title(\"After filter\")\n",
    "    # plt.xlabel('Freq (Hz)')\n",
    "    # plt.ylabel('FFT Amplitude |X(freq)|')\n",
    "    # plt.xlim(0, 10)\n",
    "    # plt.show()\n",
    "    \n",
    "    return np.round(data_filtered.real, 2)\n",
    "\n"
   ]
  },
  {
   "cell_type": "code",
   "execution_count": 5,
   "metadata": {},
   "outputs": [
    {
     "name": "stdout",
     "output_type": "stream",
     "text": [
      "     STT  AccelX  AccelY  AccelZ  GyroX  GyroY  GyroZ\n",
      "0      1    9.04    1.70    4.88  -0.11   0.05  -0.01\n",
      "1      2    9.06    1.67    4.89  -0.11   0.05  -0.01\n",
      "2      3    9.00    1.69    4.88  -0.11   0.06  -0.01\n",
      "3      4    9.01    1.71    4.88  -0.12   0.05  -0.01\n",
      "4      5    9.04    1.65    4.87  -0.12   0.06  -0.01\n",
      "..   ...     ...     ...     ...    ...    ...    ...\n",
      "195  196    8.97    1.70    4.98  -0.12   0.07  -0.01\n",
      "196  197    9.07    1.70    4.94  -0.12   0.04   0.00\n",
      "197  198    9.09    1.64    4.88  -0.12   0.05  -0.01\n",
      "198  199    9.06    1.65    4.90  -0.10   0.05  -0.02\n",
      "199  200    8.97    1.69    4.87  -0.10   0.05  -0.02\n",
      "\n",
      "[200 rows x 7 columns]\n"
     ]
    }
   ],
   "source": [
    "test = pd.read_csv(f'output2/AN_1.csv')\n",
    "# test.columns[2] = \"STT\"\n",
    "test.rename(columns={'Unnamed':'STT'}, inplace=True)\n",
    "\n",
    "np.round\n",
    "print(test)\n"
   ]
  },
  {
   "cell_type": "code",
   "execution_count": 6,
   "metadata": {},
   "outputs": [],
   "source": [
    "columns = [\"AccelX\", \"AccelY\", \"AccelZ\", \"GyroX\", \"GyroY\", \"GyroZ\"]\n",
    "t = \"AN\"\n",
    "for i in range(70):\n",
    "    df = pd.DataFrame()\n",
    "    for c in columns:\n",
    "        df[c] =  plot_file(c,t,i,i, f'{t}_{i}')\n",
    "    df.to_csv(f'output2_filtered/{t}_filtered_{i}.csv')\n",
    "   \n"
   ]
  },
  {
   "cell_type": "code",
   "execution_count": 7,
   "metadata": {},
   "outputs": [],
   "source": [
    "columns = [\"AccelX\", \"AccelY\", \"AccelZ\", \"GyroX\", \"GyroY\", \"GyroZ\"]\n",
    "t = \"NM\"\n",
    "for i in range(100):\n",
    "    df = pd.DataFrame()\n",
    "    for c in columns:\n",
    "        df[c] =  plot_file(c,t,i,i, f'{t}_{i}')\n",
    "    df.to_csv(f'output2_filtered/{t}_filtered_{i}.csv')\n",
    "   \n"
   ]
  }
 ],
 "metadata": {
  "kernelspec": {
   "display_name": "Python 3",
   "language": "python",
   "name": "python3"
  },
  "language_info": {
   "codemirror_mode": {
    "name": "ipython",
    "version": 3
   },
   "file_extension": ".py",
   "mimetype": "text/x-python",
   "name": "python",
   "nbconvert_exporter": "python",
   "pygments_lexer": "ipython3",
   "version": "3.12.2"
  }
 },
 "nbformat": 4,
 "nbformat_minor": 2
}
